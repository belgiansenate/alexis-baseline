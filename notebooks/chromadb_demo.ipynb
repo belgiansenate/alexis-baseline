{
 "cells": [
  {
   "cell_type": "code",
   "execution_count": 1,
   "outputs": [
    {
     "name": "stdout",
     "output_type": "stream",
     "text": [
      "Number of questions with support:  10481\n"
     ]
    }
   ],
   "source": [
    "# Get the SciQ dataset from HuggingFace\n",
    "from datasets import load_dataset\n",
    "\n",
    "dataset = load_dataset(\"sciq\", split=\"train\")\n",
    "\n",
    "# Filter the dataset to only include questions with a support\n",
    "dataset = dataset.filter(lambda x: x[\"support\"] != \"\")\n",
    "\n",
    "print(\"Number of questions with support: \", len(dataset))"
   ],
   "metadata": {
    "collapsed": false,
    "ExecuteTime": {
     "end_time": "2023-10-04T13:52:47.738504Z",
     "start_time": "2023-10-04T13:52:45.168797Z"
    }
   },
   "id": "4eb194e0c2b20c33"
  },
  {
   "cell_type": "code",
   "execution_count": 2,
   "outputs": [
    {
     "data": {
      "text/plain": "{'question': 'What type of organism is commonly used in preparation of foods such as cheese and yogurt?',\n 'distractor3': 'viruses',\n 'distractor1': 'protozoa',\n 'distractor2': 'gymnosperms',\n 'correct_answer': 'mesophilic organisms',\n 'support': 'Mesophiles grow best in moderate temperature, typically between 25°C and 40°C (77°F and 104°F). Mesophiles are often found living in or on the bodies of humans or other animals. The optimal growth temperature of many pathogenic mesophiles is 37°C (98°F), the normal human body temperature. Mesophilic organisms have important uses in food preparation, including cheese, yogurt, beer and wine.'}"
     },
     "execution_count": 2,
     "metadata": {},
     "output_type": "execute_result"
    }
   ],
   "source": [
    "dataset[0]"
   ],
   "metadata": {
    "collapsed": false,
    "ExecuteTime": {
     "end_time": "2023-10-04T13:52:47.746935Z",
     "start_time": "2023-10-04T13:52:47.740521Z"
    }
   },
   "id": "d09bf57ab926466b"
  },
  {
   "cell_type": "code",
   "execution_count": 3,
   "outputs": [],
   "source": [
    "import chromadb\n",
    "\n",
    "client = chromadb.Client()"
   ],
   "metadata": {
    "collapsed": false,
    "ExecuteTime": {
     "end_time": "2023-10-04T13:52:47.972226Z",
     "start_time": "2023-10-04T13:52:47.746704Z"
    }
   },
   "id": "a385f8a77b7aac8b"
  },
  {
   "cell_type": "code",
   "execution_count": 4,
   "outputs": [],
   "source": [
    "# Create a new Chroma collection to store the supporting evidence. We don't need to specify an embedding fuction, and the default will be used.\n",
    "collection = client.create_collection(\"sciq_supports\")"
   ],
   "metadata": {
    "collapsed": false,
    "ExecuteTime": {
     "end_time": "2023-10-04T13:52:47.982054Z",
     "start_time": "2023-10-04T13:52:47.973001Z"
    }
   },
   "id": "96a9a2f732c0daaf"
  },
  {
   "cell_type": "code",
   "execution_count": 5,
   "outputs": [],
   "source": [
    "# Embed and store the first 100 supports for this demo\n",
    "collection.add(\n",
    "    ids=[str(i) for i in range(0, 100)],  # IDs are just strings\n",
    "    documents=dataset[\"support\"][:100],\n",
    "    metadatas=[{\"type\": \"support\"} for _ in range(0, 100)\n",
    "    ],\n",
    ")"
   ],
   "metadata": {
    "collapsed": false,
    "ExecuteTime": {
     "end_time": "2023-10-04T13:52:50.318716Z",
     "start_time": "2023-10-04T13:52:47.983821Z"
    }
   },
   "id": "5783252637d088a5"
  },
  {
   "cell_type": "code",
   "execution_count": 6,
   "outputs": [],
   "source": [
    "results = collection.query(\n",
    "    query_texts=dataset[\"question\"][:10],\n",
    "    n_results=1)"
   ],
   "metadata": {
    "collapsed": false,
    "ExecuteTime": {
     "end_time": "2023-10-04T13:52:50.544454Z",
     "start_time": "2023-10-04T13:52:50.318919Z"
    }
   },
   "id": "a48cf08a25d1f0a8"
  },
  {
   "cell_type": "code",
   "execution_count": 7,
   "outputs": [
    {
     "name": "stdout",
     "output_type": "stream",
     "text": [
      "Question: What type of organism is commonly used in preparation of foods such as cheese and yogurt?\n",
      "Retrieved support: Agents of Decomposition The fungus-like protist saprobes are specialized to absorb nutrients from nonliving organic matter, such as dead organisms or their wastes. For instance, many types of oomycetes grow on dead animals or algae. Saprobic protists have the essential function of returning inorganic nutrients to the soil and water. This process allows for new plant growth, which in turn generates sustenance for other organisms along the food chain. Indeed, without saprobe species, such as protists, fungi, and bacteria, life would cease to exist as all organic carbon became “tied up” in dead organisms.\n",
      "\n",
      "Question: What phenomenon makes global winds blow northeast to southwest or the reverse in the northern hemisphere and northwest to southeast or the reverse in the southern hemisphere?\n",
      "Retrieved support: Without Coriolis Effect the global winds would blow north to south or south to north. But Coriolis makes them blow northeast to southwest or the reverse in the Northern Hemisphere. The winds blow northwest to southeast or the reverse in the southern hemisphere.\n",
      "\n",
      "Question: Changes from a less-ordered state to a more-ordered state (such as a liquid to a solid) are always what?\n",
      "Retrieved support: Summary Changes of state are examples of phase changes, or phase transitions. All phase changes are accompanied by changes in the energy of a system. Changes from a more-ordered state to a less-ordered state (such as a liquid to a gas) areendothermic. Changes from a less-ordered state to a more-ordered state (such as a liquid to a solid) are always exothermic. The conversion of a solid to a liquid is called fusion (or melting). The energy required to melt 1 mol of a substance is its enthalpy of fusion (ΔHfus). The energy change required to vaporize 1 mol of a substance is the enthalpy of vaporization (ΔHvap). The direct conversion of a solid to a gas is sublimation. The amount of energy needed to sublime 1 mol of a substance is its enthalpy of sublimation (ΔHsub) and is the sum of the enthalpies of fusion and vaporization. Plots of the temperature of a substance versus heat added or versus heating time at a constant rate of heating are calledheating curves. Heating curves relate temperature changes to phase transitions. A superheated liquid, a liquid at a temperature and pressure at which it should be a gas, is not stable. A cooling curve is not exactly the reverse of the heating curve because many liquids do not freeze at the expected temperature. Instead, they form a supercooled liquid, a metastable liquid phase that exists below the normal melting point. Supercooled liquids usually crystallize on standing, or adding a seed crystal of the same or another substance can induce crystallization.\n",
      "\n",
      "Question: What is the least dangerous radioactive decay?\n",
      "Retrieved support: All radioactive decay is dangerous to living things, but alpha decay is the least dangerous.\n",
      "\n",
      "Question: Kilauea in hawaii is the world’s most continuously active volcano. very active volcanoes characteristically eject red-hot rocks and lava rather than this?\n",
      "Retrieved support: Example 3.5 Calculating Projectile Motion: Hot Rock Projectile Kilauea in Hawaii is the world’s most continuously active volcano. Very active volcanoes characteristically eject red-hot rocks and lava rather than smoke and ash. Suppose a large rock is ejected from the volcano with a speed of 25.0 m/s and at an angle 35.0º above the horizontal, as shown in Figure 3.40. The rock strikes the side of the volcano at an altitude 20.0 m lower than its starting point. (a) Calculate the time it takes the rock to follow this path. (b) What are the magnitude and direction of the rock’s velocity at impact?.\n",
      "\n",
      "Question: When a meteoroid reaches earth, what is the remaining object called?\n",
      "Retrieved support: Meteoroids are smaller than asteroids, ranging from the size of boulders to the size of sand grains. When meteoroids enter Earth’s atmosphere, they vaporize, creating a trail of glowing gas called a meteor. If any of the meteoroid reaches Earth, the remaining object is called a meteorite.\n",
      "\n",
      "Question: What kind of a reaction occurs when a substance reacts quickly with oxygen?\n",
      "Retrieved support: A combustion reaction occurs when a substance reacts quickly with oxygen (O 2 ). For example, in the Figure below , charcoal is combining with oxygen. Combustion is commonly called burning, and the substance that burns is usually referred to as fuel. The products of a complete combustion reaction include carbon dioxide (CO 2 ) and water vapor (H 2 O). The reaction typically gives off heat and light as well. The general equation for a complete combustion reaction is:.\n",
      "\n",
      "Question: Organisms categorized by what species descriptor demonstrate a version of allopatric speciation and have limited regions of overlap with one another, but where they overlap they interbreed successfully?.\n",
      "Retrieved support: Ring species Ring species demonstrate a version of allopatric speciation. Imagine populations of the species A. Over the geographic range of A there exist a number of subpopulations. These subpopulations (A1 to A5) and (Aa to Ae) have limited regions of overlap with one another but where they overlap they interbreed successfully. But populations A5 and Ae no longer interbreed successfully – are these populations separate species?  In this case, there is no clear-cut answer, but it is likely that in the link between the various populations will be broken and one or more species may form in the future. Consider the black bear Ursus americanus. Originally distributed across all of North America, its distribution is now much more fragmented. Isolated populations are free to adapt to their own particular environments and migration between populations is limited. Clearly the environment in Florida is different from that in Mexico, Alaska, or Newfoundland. Different environments will favor different adaptations. If, over time, these populations were to come back into contact with one another, they might or might not be able to interbreed successfully - reproductive isolation may occur and one species may become many.\n",
      "\n",
      "Question: Alpha emission is a type of what?\n",
      "Retrieved support: One type of radioactivity is alpha emission. What is an alpha particle? What happens to an alpha particle after it is emitted from an unstable nucleus?.\n",
      "\n",
      "Question: What is the stored food in a seed called?\n",
      "Retrieved support: The stored food in a seed is called endosperm . It nourishes the embryo until it can start making food on its own.\n"
     ]
    }
   ],
   "source": [
    "# Print the question and the corresponding support\n",
    "for i, q in enumerate(dataset['question'][:10]):\n",
    "    print(f\"Question: {q}\")\n",
    "    print(f\"Retrieved support: {results['documents'][i][0]}\")\n",
    "    print()"
   ],
   "metadata": {
    "collapsed": false,
    "ExecuteTime": {
     "end_time": "2023-10-04T13:52:50.563959Z",
     "start_time": "2023-10-04T13:52:50.544762Z"
    }
   },
   "id": "67e78b6016d9d1e1"
  },
  {
   "cell_type": "code",
   "execution_count": 8,
   "outputs": [],
   "source": [
    "from chromadb.utils import embedding_functions"
   ],
   "metadata": {
    "collapsed": false,
    "ExecuteTime": {
     "end_time": "2023-10-04T13:52:50.591462Z",
     "start_time": "2023-10-04T13:52:50.564798Z"
    }
   },
   "id": "67b0d16276fce88f"
  },
  {
   "cell_type": "code",
   "execution_count": 16,
   "outputs": [],
   "source": [
    "default_ef = embedding_functions.HuggingFaceEmbeddingFunction( api_key=\"https://api-inference.huggingface.co/models/bert-base-uncased\", model_name=\"bert-base-uncased\")"
   ],
   "metadata": {
    "collapsed": false,
    "ExecuteTime": {
     "end_time": "2023-10-04T14:00:10.677349Z",
     "start_time": "2023-10-04T14:00:10.673756Z"
    }
   },
   "id": "d148d3771abef8f0"
  },
  {
   "cell_type": "code",
   "execution_count": 17,
   "outputs": [
    {
     "data": {
      "text/plain": "{'error': 'Authorization header is correct, but the token seems invalid'}"
     },
     "execution_count": 17,
     "metadata": {},
     "output_type": "execute_result"
    }
   ],
   "source": [
    "val = default_ef([\"zuid\"])\n",
    "val"
   ],
   "metadata": {
    "collapsed": false,
    "ExecuteTime": {
     "end_time": "2023-10-04T14:00:11.912103Z",
     "start_time": "2023-10-04T14:00:11.586703Z"
    }
   },
   "id": "e3edd05792dd0eb5"
  },
  {
   "cell_type": "code",
   "execution_count": 10,
   "outputs": [],
   "source": [],
   "metadata": {
    "collapsed": false,
    "ExecuteTime": {
     "end_time": "2023-10-04T13:52:50.688540Z",
     "start_time": "2023-10-04T13:52:50.683846Z"
    }
   },
   "id": "5d745699d89c4bb7"
  }
 ],
 "metadata": {
  "kernelspec": {
   "display_name": "Python 3",
   "language": "python",
   "name": "python3"
  },
  "language_info": {
   "codemirror_mode": {
    "name": "ipython",
    "version": 2
   },
   "file_extension": ".py",
   "mimetype": "text/x-python",
   "name": "python",
   "nbconvert_exporter": "python",
   "pygments_lexer": "ipython2",
   "version": "2.7.6"
  }
 },
 "nbformat": 4,
 "nbformat_minor": 5
}
